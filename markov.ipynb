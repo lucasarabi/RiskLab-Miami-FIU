{
 "cells": [
  {
   "cell_type": "markdown",
   "metadata": {},
   "source": [
    "### Markov Chain"
   ]
  },
  {
   "cell_type": "code",
   "execution_count": 39,
   "metadata": {},
   "outputs": [],
   "source": [
    "# Import libraries\n",
    "import numpy as np\n",
    "import random\n",
    "from pydtmc import MarkovChain, plot_graph\n",
    "import networkx"
   ]
  },
  {
   "cell_type": "markdown",
   "metadata": {},
   "source": [
    "Two states: (1) Bear and (2) Bull\n",
    "\n",
    "Transition matrix: \n",
    "\n",
    "\\begin{bmatrix}\n",
    "0.8 & 0.2 \\\\\n",
    "0.6 & 0.4\n",
    "\\end{bmatrix}\n",
    "\n",
    "Row 0, Col 0 correspond to Bear\n",
    "\n",
    "Row 1, Col 1 correspond to Bull\n",
    "\n"
   ]
  },
  {
   "cell_type": "code",
   "execution_count": 41,
   "metadata": {},
   "outputs": [
    {
     "name": "stdout",
     "output_type": "stream",
     "text": [
      "\n",
      "DISCRETE-TIME MARKOV CHAIN\n",
      " SIZE:           2\n",
      " RANK:           2\n",
      " CLASSES:        1\n",
      "  > RECURRENT:   1\n",
      "  > TRANSIENT:   0\n",
      " ERGODIC:        YES\n",
      "  > APERIODIC:   YES\n",
      "  > IRREDUCIBLE: YES\n",
      " ABSORBING:      NO\n",
      " MONOTONE:       YES\n",
      " REGULAR:        YES\n",
      " REVERSIBLE:     YES\n",
      " SYMMETRIC:      NO\n",
      "\n"
     ]
    }
   ],
   "source": [
    "# Bear and Bull (Recurring)(Stock Market)\n",
    "states = ['Bear', 'Bull']\n",
    "transition_matrix = np.array([[0.8, 0.2],\n",
    "                              [0.6, 0.4]])\n",
    "mc = MarkovChain(transition_matrix,states)\n",
    "\n",
    "print(mc)"
   ]
  },
  {
   "cell_type": "code",
   "execution_count": 45,
   "metadata": {},
   "outputs": [
    {
     "data": {
      "image/png": "[encoded data removed]",
      "text/plain": [
       "<Figure size 144.1x185.9 with 1 Axes>"
      ]
     },
     "metadata": {},
     "output_type": "display_data"
    }
   ],
   "source": [
    "# Plot the Markov Chain\n",
    "plot_graph(mc, dpi=300)"
   ]
  }
 ],
 "metadata": {
  "kernelspec": {
   "display_name": "Python 3",
   "language": "python",
   "name": "python3"
  },
  "language_info": {
   "codemirror_mode": {
    "name": "ipython",
    "version": 3
   },
   "file_extension": ".py",
   "mimetype": "text/x-python",
   "name": "python",
   "nbconvert_exporter": "python",
   "pygments_lexer": "ipython3",
   "version": "3.13.2"
  }
 },
 "nbformat": 4,
 "nbformat_minor": 2
}
